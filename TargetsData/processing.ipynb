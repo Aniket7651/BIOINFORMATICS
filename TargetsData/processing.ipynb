{
 "cells": [
  {
   "cell_type": "code",
   "execution_count": null,
   "metadata": {},
   "outputs": [],
   "source": [
    "filePath = \"B:/enzymeClass/transaminaseProtein.fasta\"\n",
    "\n",
    "def fastLength(filePath):\n",
    "    fastaLen = 0\n",
    "    with open(filePath, 'r') as fasta:\n",
    "        for line in fasta.readlines():\n",
    "            if '>' in line:\n",
    "                fastaLen += 1\n",
    "    return fastaLen\n",
    "\n",
    "def readMultipleFast(filePath):\n",
    "    header = []\n",
    "    seq = ''\n",
    "    with open(filePath, 'r') as fast:\n",
    "        for line in fast.readlines():\n",
    "            if '>' in line:\n",
    "                header.append(line)\n",
    "            else: seq += line\n",
    "    multifast = seq.split('\\n\\n')\n",
    "    for s in range(len(multifast)):\n",
    "        multifast[s] = multifast[s].replace('\\n', '')\n",
    "    return multifast[:-1], header\n",
    "\n",
    "print('length of fasta file or numbers of reads: %d'%fastLength(filePath))\n",
    "fasta, header = readMultipleFast(filePath)"
   ]
  },
  {
   "cell_type": "code",
   "execution_count": 3,
   "metadata": {},
   "outputs": [],
   "source": [
    "################ SAMPLE SEQUENCE ################\n",
    "seq2 = 'MLARALLLCAVLALSHTANPCCSHPCQNRGVCMSVGFDQYKCDCTRTGFYGENCSTPEFLTRIKLFLKPTPNTVHYILTHFKGFWNVVNNIPFLRNAIMSYVLTSRSHLIDSPPTYNADYGYKSWEAFSNLSYYTRALPPVPDDCPTPLGVKGKKQLPDSNEIVEKLLLRRKFIPDPQGSNMMFAFFAQHFTHQFFKTDHKRGPAFTNGLGHGVDLNHIYGETLARQRKLRLFKDGKMKYQIIDGEMYPPTVKDTQAEMIYPPQVPEHLRFAVGQEVFGLVPGLMMYATIWLREHNRVCDVLKQEHPEWGDEQLFQTSRLILIGETIKIVIEDYVQHLSGYHFKLKFDPELLFNKQFQYQNRIAAEFNTLYHWHPLLPDTFQIHDQKYNYQQFIYNNSILLEHGITQFVESFTRQIAGRVAGGRNVPPAVQKVSQASIDQSRQMKYQSFNEYRKRFMLKPYESFEELTGEKEMSAELEALYGDIDAVELYPALLVEKPRPDAIFGETMVEVGAPFSLKGLMGNVICSPAYWKPSTFGGEVGFQIINTASIQSLICNNVKGCPFTSFSVPDPELIKTVTINASSSRSGLDDINPTVLLKERSTEL'"
   ]
  },
  {
   "cell_type": "code",
   "execution_count": null,
   "metadata": {},
   "outputs": [],
   "source": [
    "ulis = []\n",
    "stri = ''\n",
    "for i in seq2:\n",
    "    if i not in ulis:\n",
    "        ulis.append(i)\n",
    "for i in ulis:\n",
    "    stri+=i\n",
    "stri"
   ]
  },
  {
   "cell_type": "code",
   "execution_count": 6,
   "metadata": {},
   "outputs": [],
   "source": [
    "import numpy as np\n",
    "import matplotlib.pyplot as plt\n",
    "\n",
    "seq1 = 'ATGCTCGTGCTATACGGA'\n",
    "\n",
    "def One_Hot_encoding(string, ALIGN_CONST='ATGC'):\n",
    "    encoded = []\n",
    "    for i in ALIGN_CONST:\n",
    "        row = []\n",
    "        for j in string:\n",
    "            if i == j:\n",
    "                row.append(1.0)\n",
    "            else: row.append(0.0)\n",
    "        encoded.append(row)\n",
    "    return encoded\n",
    "\n",
    "def bandImage_Genretor(imageArray, fileName, dpi=100, _max=200, cmap='gray'):\n",
    "    if _max > dpi:\n",
    "        plt.figure(figsize=(int(_max/dpi), int(_max/dpi)), dpi=dpi)\n",
    "        plt.imshow(imageArray, interpolation='nearest', cmap=cmap, aspect='auto')\n",
    "        plt.axis('off')\n",
    "        plt.savefig(fileName, pad_inches=0, bbox_inches='tight')\n",
    "        return \"saved -> \"+fileName\n",
    "    else: return '_max value not greater than dpi..'"
   ]
  },
  {
   "cell_type": "code",
   "execution_count": null,
   "metadata": {},
   "outputs": [],
   "source": [
    "# Image Dimensions: 155x154\n",
    "# Format: PNG \n",
    "for seq in range(len(fasta)):\n",
    "    imgarr = np.array(One_Hot_encoding(fasta[seq], ALIGN_CONST='MLARCVSHTNPQGFDYKEIW'))\n",
    "    bandImage_Genretor(imgarr, 'B:/enzymeClass/DataImage/transaminase/amin%d.png'%seq)"
   ]
  },
  {
   "cell_type": "code",
   "execution_count": 6,
   "metadata": {},
   "outputs": [
    {
     "name": "stdout",
     "output_type": "stream",
     "text": [
      "Found 6960 files belonging to 5 classes.\n"
     ]
    },
    {
     "data": {
      "text/plain": [
       "<_BatchDataset element_spec=(TensorSpec(shape=(None, 155, 154, 1), dtype=tf.float32, name=None), TensorSpec(shape=(None,), dtype=tf.int32, name=None))>"
      ]
     },
     "execution_count": 6,
     "metadata": {},
     "output_type": "execute_result"
    }
   ],
   "source": [
    "import tensorflow as tf\n",
    "from keras import layers, models\n",
    "\n",
    "train_dir = \"B:/enzymeClass/DataImage\"\n",
    "train = tf.keras.preprocessing.image_dataset_from_directory(train_dir, image_size=(155, 154), color_mode=\"grayscale\", shuffle=True)\n",
    "train"
   ]
  },
  {
   "cell_type": "code",
   "execution_count": 7,
   "metadata": {},
   "outputs": [
    {
     "name": "stdout",
     "output_type": "stream",
     "text": [
      "Model: \"sequential_1\"\n",
      "_________________________________________________________________\n",
      " Layer (type)                Output Shape              Param #   \n",
      "=================================================================\n",
      " conv2d_5 (Conv2D)           (None, 153, 152, 32)      320       \n",
      "                                                                 \n",
      " max_pooling2d_5 (MaxPooling  (None, 76, 76, 32)       0         \n",
      " 2D)                                                             \n",
      "                                                                 \n",
      " conv2d_6 (Conv2D)           (None, 74, 74, 64)        18496     \n",
      "                                                                 \n",
      " max_pooling2d_6 (MaxPooling  (None, 37, 37, 64)       0         \n",
      " 2D)                                                             \n",
      "                                                                 \n",
      " conv2d_7 (Conv2D)           (None, 35, 35, 64)        36928     \n",
      "                                                                 \n",
      " max_pooling2d_7 (MaxPooling  (None, 17, 17, 64)       0         \n",
      " 2D)                                                             \n",
      "                                                                 \n",
      " conv2d_8 (Conv2D)           (None, 15, 15, 128)       73856     \n",
      "                                                                 \n",
      " max_pooling2d_8 (MaxPooling  (None, 7, 7, 128)        0         \n",
      " 2D)                                                             \n",
      "                                                                 \n",
      " conv2d_9 (Conv2D)           (None, 5, 5, 128)         147584    \n",
      "                                                                 \n",
      " max_pooling2d_9 (MaxPooling  (None, 2, 2, 128)        0         \n",
      " 2D)                                                             \n",
      "                                                                 \n",
      " flatten_1 (Flatten)         (None, 512)               0         \n",
      "                                                                 \n",
      " dropout_1 (Dropout)         (None, 512)               0         \n",
      "                                                                 \n",
      " dense_2 (Dense)             (None, 512)               262656    \n",
      "                                                                 \n",
      " dense_3 (Dense)             (None, 5)                 2565      \n",
      "                                                                 \n",
      "=================================================================\n",
      "Total params: 542,405\n",
      "Trainable params: 542,405\n",
      "Non-trainable params: 0\n",
      "_________________________________________________________________\n"
     ]
    }
   ],
   "source": [
    "model = models.Sequential(\n",
    "    [layers.Conv2D(32, (3, 3), activation='relu', input_shape=(155, 154, 1)),\n",
    "     layers.MaxPooling2D(),\n",
    "     layers.Conv2D(64, (3, 3), activation='relu'),\n",
    "     layers.MaxPooling2D(),\n",
    "     layers.Conv2D(64, (3, 3), activation='relu'),\n",
    "     layers.MaxPooling2D(),\n",
    "     layers.Conv2D(128, (3, 3), activation='relu'),\n",
    "     layers.MaxPooling2D(),\n",
    "     layers.Conv2D(128, (3, 3), activation='relu'),\n",
    "     layers.MaxPooling2D(),\n",
    "     layers.Flatten(),\n",
    "     layers.Dropout(0.5),\n",
    "     layers.Dense(512, activation='relu'),\n",
    "     layers.Dense(5, activation='softmax')\n",
    "    ]\n",
    ")\n",
    "model.summary()"
   ]
  },
  {
   "cell_type": "code",
   "execution_count": 8,
   "metadata": {},
   "outputs": [
    {
     "name": "stdout",
     "output_type": "stream",
     "text": [
      "Epoch 1/2\n",
      "218/218 [==============================] - 132s 593ms/step - loss: 1.4079 - accuracy: 0.5629\n",
      "Epoch 2/2\n",
      "218/218 [==============================] - 127s 581ms/step - loss: 0.9789 - accuracy: 0.6174\n"
     ]
    }
   ],
   "source": [
    "model.compile(optimizer=tf.keras.optimizers.Adam(), loss='sparse_categorical_crossentropy', metrics=['accuracy'])\n",
    "modelrun = model.fit(train, epochs=2)"
   ]
  },
  {
   "cell_type": "code",
   "execution_count": 11,
   "metadata": {},
   "outputs": [
    {
     "data": {
      "text/plain": [
       "[array([[ 0.0049341 , -0.05735083, -0.09809205,  0.08885757, -0.09375548],\n",
       "        [-0.00769438, -0.05581054,  0.05634931, -0.00436593, -0.00147459],\n",
       "        [ 0.10049343,  0.10113937,  0.02817721, -0.07018766, -0.04238156],\n",
       "        ...,\n",
       "        [ 0.10272818, -0.08063234,  0.01502476,  0.09140489, -0.10593095],\n",
       "        [ 0.07181194,  0.08580116,  0.07371862,  0.06823976,  0.0688099 ],\n",
       "        [-0.06214504,  0.04888536,  0.04122535,  0.07611465,  0.05051546]],\n",
       "       dtype=float32),\n",
       " array([ 0.01354859,  0.00398914, -0.03905588,  0.01513773, -0.0462256 ],\n",
       "       dtype=float32)]"
      ]
     },
     "execution_count": 11,
     "metadata": {},
     "output_type": "execute_result"
    }
   ],
   "source": [
    "model.save_weights('weight.h5')\n",
    "model.layers[13].get_weights()"
   ]
  },
  {
   "cell_type": "code",
   "execution_count": 12,
   "metadata": {},
   "outputs": [
    {
     "name": "stdout",
     "output_type": "stream",
     "text": [
      "Found 1298 files belonging to 5 classes.\n",
      "41/41 [==============================] - 7s 155ms/step - loss: 1.6105 - accuracy: 0.4168\n"
     ]
    },
    {
     "data": {
      "text/plain": [
       "[1.6104521751403809, 0.4167950749397278]"
      ]
     },
     "execution_count": 12,
     "metadata": {},
     "output_type": "execute_result"
    }
   ],
   "source": [
    "testdir = 'B:/enzymeClass/testimages'\n",
    "test = tf.keras.preprocessing.image_dataset_from_directory(testdir, image_size=(155, 154), color_mode=\"grayscale\", shuffle=True)\n",
    "model.evaluate(test)"
   ]
  },
  {
   "cell_type": "code",
   "execution_count": null,
   "metadata": {},
   "outputs": [],
   "source": [
    "##################### TARGET PROTEIN AND GENE SEQUENCE SCRAPING #####################\n",
    "\n",
    "from bs4 import BeautifulSoup\n",
    "import requests\n",
    "\n",
    "uniProtID = 'P35354'\n",
    "folderLocation = \"A:/PROJECTS/BIOINFORMATICS_software/TargetsData\"\n",
    "\n",
    "# 'class': 'col-xl-10 col-md-9 col-sm-8', 'tag': 'pre'\n",
    "url = f'https://go.drugbank.com/polypeptides/{uniProtID}'\n",
    "soup = BeautifulSoup(requests.get(url).text, 'xml')\n",
    "target = soup.find('dd', {'class': 'col-xl-10 col-md-9 col-sm-8'}).text\n",
    "if '/' in target:\n",
    "    trName = target.replace('/', '_')\n",
    "else: trName = target\n",
    "val = soup.find_all('pre')\n",
    "with open(f\"{folderLocation}/{trName}.fasta\", \"w\") as file:\n",
    "    for item in val:\n",
    "        file.write(item.text)\n",
    "        file.write('\\n')"
   ]
  },
  {
   "cell_type": "code",
   "execution_count": 65,
   "metadata": {},
   "outputs": [],
   "source": [
    "# SEGMENTATION CODE #\n",
    "seq = 'GYKSWEAFSNLSYYTRALPPVPDDCPTPLGVKGKKQLPDSNEIVEKLLLRRKFIPDPQGS'\n",
    "\n",
    "def segmentation(seq, seg_Length=5):\n",
    "    segment = []\n",
    "    for i in range(0, (len(seq)-seg_Length)+1):\n",
    "        segment.append(seq[i:i+seg_Length])\n",
    "    return segment"
   ]
  },
  {
   "cell_type": "code",
   "execution_count": null,
   "metadata": {},
   "outputs": [],
   "source": [
    "# SEGMENTED GC REGION #\n",
    "seq = 'GYKSWEAFSNLSYYTRALPPVPDDCPTPLGVKGKKQLPDSNEIVEKLLLRRKFIPDPQGS'\n",
    "se = 5\n",
    "threshold = 2.0\n",
    "\n",
    "(pos, pos_l) = ('', [])\n",
    "gc_percent = []\n",
    "for seg in segmentation(seq, seg_Length=se):\n",
    "    (_C, _G) = (seg.count('C'), seg.count('G'))\n",
    "    gc_percent.append(_C+_G/se)\n",
    "for i in range(len(gc_percent)):\n",
    "    if threshold > min(gc_percent):\n",
    "        th = threshold\n",
    "    else: th = 2.0\n",
    "    if gc_percent[i] >= min(gc_percent)+th:\n",
    "        pos += '{},'.format(i)\n",
    "        pos_l.append(i)\n",
    "    else: pos += '~'\n",
    "\n",
    "pos, pos_l"
   ]
  },
  {
   "cell_type": "code",
   "execution_count": null,
   "metadata": {},
   "outputs": [],
   "source": []
  }
 ],
 "metadata": {
  "kernelspec": {
   "display_name": "Python 3",
   "language": "python",
   "name": "python3"
  },
  "language_info": {
   "codemirror_mode": {
    "name": "ipython",
    "version": 3
   },
   "file_extension": ".py",
   "mimetype": "text/x-python",
   "name": "python",
   "nbconvert_exporter": "python",
   "pygments_lexer": "ipython3",
   "version": "3.10.4"
  },
  "orig_nbformat": 4
 },
 "nbformat": 4,
 "nbformat_minor": 2
}
